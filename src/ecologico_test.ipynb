{
 "cells": [
  {
   "cell_type": "code",
   "execution_count": null,
   "metadata": {},
   "outputs": [],
   "source": [
    "ecologico.competir(estrategias)"
   ]
  },
  {
   "cell_type": "code",
   "execution_count": null,
   "metadata": {},
   "outputs": [],
   "source": [
    "from ecologico import Ecologico\n",
    "from agente import Agente\n",
    "from estrategias import *"
   ]
  },
  {
   "cell_type": "code",
   "execution_count": null,
   "metadata": {},
   "outputs": [],
   "source": [
    "estrategias = {\n",
    "    \"azarosa\" : (estrat_proponer_rand, estrat_aceptar_rand, 3),\n",
    "    \"mala_onda\" : (estrat_proponer_rand, estrat_aceptar_nunca, 2)\n",
    "}\n",
    "\n",
    "ecologico = Ecologico(1, 1, estrategias, 5, [(0,1),(1,2),(2,3),(3,4),(4,0),(2,3),(4,1)])"
   ]
  },
  {
   "cell_type": "code",
   "execution_count": null,
   "metadata": {},
   "outputs": [],
   "source": [
    "ecologico.competir(estrategias)"
   ]
  }
 ],
 "metadata": {
  "kernelspec": {
   "display_name": ".venv",
   "language": "python",
   "name": "python3"
  },
  "language_info": {
   "codemirror_mode": {
    "name": "ipython",
    "version": 3
   },
   "file_extension": ".py",
   "mimetype": "text/x-python",
   "name": "python",
   "nbconvert_exporter": "python",
   "pygments_lexer": "ipython3",
   "version": "3.11.6"
  }
 },
 "nbformat": 4,
 "nbformat_minor": 2
}
