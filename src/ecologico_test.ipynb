{
 "cells": [
  {
   "cell_type": "code",
   "execution_count": null,
   "metadata": {},
   "outputs": [],
   "source": [
    "from ecologico import Ecologico\n",
    "from agente import Agente\n",
    "from estrategias import *\n",
    "from genome import Genome, World"
   ]
  },
  {
   "cell_type": "code",
   "execution_count": null,
   "metadata": {},
   "outputs": [],
   "source": [
    "def create_random_adjacency_list(n, k):\n",
    "    edges = set()\n",
    "    \n",
    "    while len(edges) < k:\n",
    "        u = random.randint(0, n-1)\n",
    "        v = random.randint(0, n-1)\n",
    "        if u != v:\n",
    "            edge = tuple(sorted((u, v)))  # Sort the tuple to avoid (u, v) and (v, u) as different\n",
    "            edges.add(edge)\n",
    "    \n",
    "    return list(edges)\n",
    "\n",
    "create_random_adjacency_list(30, 75)"
   ]
  },
  {
   "cell_type": "code",
   "execution_count": null,
   "metadata": {},
   "outputs": [],
   "source": [
    "\n",
    "\n",
    "estrategias = {\n",
    "    \"azarosa\" : (estrat_proponer_rand, estrat_aceptar_rand, 5),\n",
    "    \"mala_onda\" : (estrat_proponer_rand, estrat_aceptar_nunca, 5),\n",
    "    \"promedio\" : (estrat_proponer_promedio, estrat_aceptar_promedio, 5),\n",
    "    \"rata\" : (estrat_rata, estrat_aceptar_promedio, 5),\n",
    "    \"antirrata\" : (estrat_antirrata_proponer, estrat_antirrata_aceptar, 5),\n",
    "    }   \n",
    "\n",
    "\n",
    "\n",
    "ecologico = Ecologico(50, 10, estrategias, 25, create_random_adjacency_list(25, 90))\n"
   ]
  },
  {
   "cell_type": "code",
   "execution_count": null,
   "metadata": {},
   "outputs": [],
   "source": [
    "ecologico.competir(ecologico.estrategias)"
   ]
  }
 ],
 "metadata": {
  "kernelspec": {
   "display_name": ".venv",
   "language": "python",
   "name": "python3"
  },
  "language_info": {
   "codemirror_mode": {
    "name": "ipython",
    "version": 3
   },
   "file_extension": ".py",
   "mimetype": "text/x-python",
   "name": "python",
   "nbconvert_exporter": "python",
   "pygments_lexer": "ipython3",
   "version": "3.11.6"
  }
 },
 "nbformat": 4,
 "nbformat_minor": 2
}
