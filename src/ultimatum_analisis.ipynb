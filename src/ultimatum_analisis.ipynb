{
 "cells": [
  {
   "cell_type": "markdown",
   "metadata": {},
   "source": [
    "## Hola"
   ]
  },
  {
   "cell_type": "code",
   "execution_count": 6,
   "metadata": {},
   "outputs": [],
   "source": [
    "from ultimatum import Ultimatum\n",
    "from ecologico import Ecologico"
   ]
  },
  {
   "cell_type": "code",
   "execution_count": 7,
   "metadata": {},
   "outputs": [],
   "source": [
    "lista = [(0,1), (1,3), (2,3), (0,4)]\n",
    "\n",
    "ultimatum = Ultimatum(lista, 5)"
   ]
  },
  {
   "cell_type": "code",
   "execution_count": 8,
   "metadata": {},
   "outputs": [],
   "source": [
    "for _ in range(100):\n",
    "    ultimatum.turno()"
   ]
  },
  {
   "cell_type": "code",
   "execution_count": 9,
   "metadata": {},
   "outputs": [
    {
     "name": "stdout",
     "output_type": "stream",
     "text": [
      "Dinero Ganado: 156\n",
      "Cantidad de Negociaciones: 51\n",
      "Fitness: 3.06 \n",
      "\n",
      "Dinero Ganado: 107\n",
      "Cantidad de Negociaciones: 36\n",
      "Fitness: 2.97 \n",
      "\n",
      "Dinero Ganado: 104\n",
      "Cantidad de Negociaciones: 33\n",
      "Fitness: 3.15 \n",
      "\n",
      "Dinero Ganado: 146\n",
      "Cantidad de Negociaciones: 49\n",
      "Fitness: 2.98 \n",
      "\n",
      "Dinero Ganado: 117\n",
      "Cantidad de Negociaciones: 31\n",
      "Fitness: 3.77 \n",
      "\n"
     ]
    }
   ],
   "source": [
    "ultimatum.calculate_fitness()\n",
    "\n",
    "for agente in ultimatum.agentes:\n",
    "    print(agente, \"\\n\")"
   ]
  },
  {
   "cell_type": "code",
   "execution_count": null,
   "metadata": {},
   "outputs": [],
   "source": []
  }
 ],
 "metadata": {
  "kernelspec": {
   "display_name": ".venv",
   "language": "python",
   "name": "python3"
  },
  "language_info": {
   "codemirror_mode": {
    "name": "ipython",
    "version": 3
   },
   "file_extension": ".py",
   "mimetype": "text/x-python",
   "name": "python",
   "nbconvert_exporter": "python",
   "pygments_lexer": "ipython3",
   "version": "3.10.5"
  }
 },
 "nbformat": 4,
 "nbformat_minor": 2
}
