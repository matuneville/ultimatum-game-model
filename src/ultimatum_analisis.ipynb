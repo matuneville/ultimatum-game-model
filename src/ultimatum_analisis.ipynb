{
 "cells": [
  {
   "cell_type": "markdown",
   "metadata": {},
   "source": [
    "## Hola"
   ]
  },
  {
   "cell_type": "code",
   "execution_count": 6,
   "metadata": {},
   "outputs": [],
   "source": [
    "from ultimatum import Ultimatum"
   ]
  },
  {
   "cell_type": "code",
   "execution_count": 7,
   "metadata": {},
   "outputs": [],
   "source": [
    "lista = [(0,1), (1,3), (2,3), (0,4)]\n",
    "\n",
    "ultimatum = Ultimatum(lista, 5)"
   ]
  },
  {
   "cell_type": "code",
   "execution_count": 8,
   "metadata": {},
   "outputs": [],
   "source": [
    "for _ in range(100):\n",
    "    ultimatum.turno()"
   ]
  },
  {
   "cell_type": "code",
   "execution_count": 9,
   "metadata": {},
   "outputs": [
    {
     "name": "stdout",
     "output_type": "stream",
     "text": [
      "Dinero Ganado: 155\n",
      "Cantidad de Negociaciones: 56\n",
      "Fitness: 2.77 \n",
      "\n",
      "Dinero Ganado: 130\n",
      "Cantidad de Negociaciones: 51\n",
      "Fitness: 2.55 \n",
      "\n",
      "Dinero Ganado: 54\n",
      "Cantidad de Negociaciones: 21\n",
      "Fitness: 2.57 \n",
      "\n",
      "Dinero Ganado: 117\n",
      "Cantidad de Negociaciones: 44\n",
      "Fitness: 2.66 \n",
      "\n",
      "Dinero Ganado: 34\n",
      "Cantidad de Negociaciones: 28\n",
      "Fitness: 1.21 \n",
      "\n"
     ]
    }
   ],
   "source": [
    "ultimatum.calculate_fitness()\n",
    "\n",
    "for agente in ultimatum.agentes:\n",
    "    print(agente, \"\\n\")"
   ]
  }
 ],
 "metadata": {
  "kernelspec": {
   "display_name": ".venv",
   "language": "python",
   "name": "python3"
  },
  "language_info": {
   "codemirror_mode": {
    "name": "ipython",
    "version": 3
   },
   "file_extension": ".py",
   "mimetype": "text/x-python",
   "name": "python",
   "nbconvert_exporter": "python",
   "pygments_lexer": "ipython3",
   "version": "3.11.6"
  }
 },
 "nbformat": 4,
 "nbformat_minor": 2
}
