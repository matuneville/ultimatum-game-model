{
 "cells": [
  {
   "cell_type": "markdown",
   "metadata": {},
   "source": [
    "## Hola"
   ]
  },
  {
   "cell_type": "code",
   "execution_count": 26,
   "metadata": {},
   "outputs": [],
   "source": [
    "from ultimatum import Ultimatum"
   ]
  },
  {
   "cell_type": "code",
   "execution_count": 27,
   "metadata": {},
   "outputs": [],
   "source": [
    "lista = [(0,1), (1,3), (2,3), (0,4)]\n",
    "\n",
    "ultimatum = Ultimatum(lista, 5)"
   ]
  },
  {
   "cell_type": "code",
   "execution_count": 28,
   "metadata": {},
   "outputs": [],
   "source": [
    "for _ in range(100):\n",
    "    ultimatum.turno()"
   ]
  },
  {
   "cell_type": "code",
   "execution_count": 29,
   "metadata": {},
   "outputs": [
    {
     "name": "stdout",
     "output_type": "stream",
     "text": [
      "Dinero Ganado: 75\n",
      "Cantidad de Negociaciones: 46\n",
      "Fitness: 0\n",
      "Dinero Ganado: 67\n",
      "Cantidad de Negociaciones: 35\n",
      "Fitness: 0\n",
      "Dinero Ganado: 73\n",
      "Cantidad de Negociaciones: 36\n",
      "Fitness: 0\n",
      "Dinero Ganado: 130\n",
      "Cantidad de Negociaciones: 54\n",
      "Fitness: 0\n",
      "Dinero Ganado: 105\n",
      "Cantidad de Negociaciones: 29\n",
      "Fitness: 0\n"
     ]
    }
   ],
   "source": [
    "for agente in ultimatum.agentes:\n",
    "    print(agente)"
   ]
  },
  {
   "cell_type": "code",
   "execution_count": 30,
   "metadata": {},
   "outputs": [
    {
     "name": "stdout",
     "output_type": "stream",
     "text": [
      "Dinero Ganado: 75\n",
      "Cantidad de Negociaciones: 46\n",
      "Fitness: 1.63 \n",
      "\n",
      "Dinero Ganado: 67\n",
      "Cantidad de Negociaciones: 35\n",
      "Fitness: 1.91 \n",
      "\n",
      "Dinero Ganado: 73\n",
      "Cantidad de Negociaciones: 36\n",
      "Fitness: 2.03 \n",
      "\n",
      "Dinero Ganado: 130\n",
      "Cantidad de Negociaciones: 54\n",
      "Fitness: 2.41 \n",
      "\n",
      "Dinero Ganado: 105\n",
      "Cantidad de Negociaciones: 29\n",
      "Fitness: 3.62 \n",
      "\n"
     ]
    }
   ],
   "source": [
    "ultimatum.calculate_fitness()\n",
    "\n",
    "for agente in ultimatum.agentes:\n",
    "    print(agente, \"\\n\")"
   ]
  }
 ],
 "metadata": {
  "kernelspec": {
   "display_name": "myenv",
   "language": "python",
   "name": "myenv"
  },
  "language_info": {
   "codemirror_mode": {
    "name": "ipython",
    "version": 3
   },
   "file_extension": ".py",
   "mimetype": "text/x-python",
   "name": "python",
   "nbconvert_exporter": "python",
   "pygments_lexer": "ipython3",
   "version": "3.11.6"
  }
 },
 "nbformat": 4,
 "nbformat_minor": 2
}
